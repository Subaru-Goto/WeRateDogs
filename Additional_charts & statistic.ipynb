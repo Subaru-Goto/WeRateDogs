{
 "cells": [
  {
   "cell_type": "code",
   "execution_count": 17,
   "metadata": {},
   "outputs": [],
   "source": [
    "# import modules\n",
    "import pandas as pd\n",
    "import numpy as np\n",
    "import matplotlib.pyplot as plt\n",
    "import seaborn as sns\n",
    "%matplotlib inline"
   ]
  },
  {
   "cell_type": "code",
   "execution_count": 3,
   "metadata": {},
   "outputs": [],
   "source": [
    "# open csv file\n",
    "df = pd.read_csv(\"twitter_archive_master.csv\")"
   ]
  },
  {
   "cell_type": "code",
   "execution_count": 4,
   "metadata": {},
   "outputs": [
    {
     "data": {
      "text/html": [
       "<div>\n",
       "<style scoped>\n",
       "    .dataframe tbody tr th:only-of-type {\n",
       "        vertical-align: middle;\n",
       "    }\n",
       "\n",
       "    .dataframe tbody tr th {\n",
       "        vertical-align: top;\n",
       "    }\n",
       "\n",
       "    .dataframe thead th {\n",
       "        text-align: right;\n",
       "    }\n",
       "</style>\n",
       "<table border=\"1\" class=\"dataframe\">\n",
       "  <thead>\n",
       "    <tr style=\"text-align: right;\">\n",
       "      <th></th>\n",
       "      <th>tweet_id</th>\n",
       "      <th>timestamp</th>\n",
       "      <th>source</th>\n",
       "      <th>text</th>\n",
       "      <th>expanded_urls</th>\n",
       "      <th>rating_numerator</th>\n",
       "      <th>rating_denominator</th>\n",
       "      <th>name</th>\n",
       "      <th>replied</th>\n",
       "      <th>stage</th>\n",
       "      <th>rating_impact</th>\n",
       "      <th>jpg_url</th>\n",
       "      <th>img_num</th>\n",
       "      <th>prediction</th>\n",
       "      <th>confidence</th>\n",
       "      <th>retweet_count</th>\n",
       "      <th>favorite_count</th>\n",
       "    </tr>\n",
       "  </thead>\n",
       "  <tbody>\n",
       "    <tr>\n",
       "      <th>0</th>\n",
       "      <td>892177421306343426</td>\n",
       "      <td>2017-08-01 00:17:27</td>\n",
       "      <td>Twitter for iPhone</td>\n",
       "      <td>This is Tilly. She's just checking pup on you....</td>\n",
       "      <td>https://twitter.com/dog_rates/status/892177421...</td>\n",
       "      <td>13.0</td>\n",
       "      <td>10</td>\n",
       "      <td>Tilly</td>\n",
       "      <td>False</td>\n",
       "      <td>NaN</td>\n",
       "      <td>1.3</td>\n",
       "      <td>https://pbs.twimg.com/media/DGGmoV4XsAAUL6n.jpg</td>\n",
       "      <td>1</td>\n",
       "      <td>Chihuahua</td>\n",
       "      <td>0.323581</td>\n",
       "      <td>6139.0</td>\n",
       "      <td>32631.0</td>\n",
       "    </tr>\n",
       "    <tr>\n",
       "      <th>1</th>\n",
       "      <td>891815181378084864</td>\n",
       "      <td>2017-07-31 00:18:03</td>\n",
       "      <td>Twitter for iPhone</td>\n",
       "      <td>This is Archie. He is a rare Norwegian Pouncin...</td>\n",
       "      <td>https://twitter.com/dog_rates/status/891815181...</td>\n",
       "      <td>12.0</td>\n",
       "      <td>10</td>\n",
       "      <td>Archie</td>\n",
       "      <td>False</td>\n",
       "      <td>NaN</td>\n",
       "      <td>1.2</td>\n",
       "      <td>https://pbs.twimg.com/media/DGBdLU1WsAANxJ9.jpg</td>\n",
       "      <td>1</td>\n",
       "      <td>Chihuahua</td>\n",
       "      <td>0.716012</td>\n",
       "      <td>4064.0</td>\n",
       "      <td>24550.0</td>\n",
       "    </tr>\n",
       "    <tr>\n",
       "      <th>2</th>\n",
       "      <td>891689557279858688</td>\n",
       "      <td>2017-07-30 15:58:51</td>\n",
       "      <td>Twitter for iPhone</td>\n",
       "      <td>This is Darla. She commenced a snooze mid meal...</td>\n",
       "      <td>https://twitter.com/dog_rates/status/891689557...</td>\n",
       "      <td>13.0</td>\n",
       "      <td>10</td>\n",
       "      <td>Darla</td>\n",
       "      <td>False</td>\n",
       "      <td>NaN</td>\n",
       "      <td>1.3</td>\n",
       "      <td>https://pbs.twimg.com/media/DF_q7IAWsAEuuN8.jpg</td>\n",
       "      <td>1</td>\n",
       "      <td>Labrador_retriever</td>\n",
       "      <td>0.168086</td>\n",
       "      <td>8455.0</td>\n",
       "      <td>41346.0</td>\n",
       "    </tr>\n",
       "    <tr>\n",
       "      <th>3</th>\n",
       "      <td>891327558926688256</td>\n",
       "      <td>2017-07-29 16:00:24</td>\n",
       "      <td>Twitter for iPhone</td>\n",
       "      <td>This is Franklin. He would like you to stop ca...</td>\n",
       "      <td>https://twitter.com/dog_rates/status/891327558...</td>\n",
       "      <td>12.0</td>\n",
       "      <td>10</td>\n",
       "      <td>Franklin</td>\n",
       "      <td>False</td>\n",
       "      <td>NaN</td>\n",
       "      <td>1.2</td>\n",
       "      <td>https://pbs.twimg.com/media/DF6hr6BUMAAzZgT.jpg</td>\n",
       "      <td>2</td>\n",
       "      <td>Basset</td>\n",
       "      <td>0.555712</td>\n",
       "      <td>9154.0</td>\n",
       "      <td>39531.0</td>\n",
       "    </tr>\n",
       "    <tr>\n",
       "      <th>4</th>\n",
       "      <td>891087950875897856</td>\n",
       "      <td>2017-07-29 00:08:17</td>\n",
       "      <td>Twitter for iPhone</td>\n",
       "      <td>Here we have a majestic great white breaching ...</td>\n",
       "      <td>https://twitter.com/dog_rates/status/891087950...</td>\n",
       "      <td>13.0</td>\n",
       "      <td>10</td>\n",
       "      <td>NaN</td>\n",
       "      <td>False</td>\n",
       "      <td>NaN</td>\n",
       "      <td>1.3</td>\n",
       "      <td>https://pbs.twimg.com/media/DF3HwyEWsAABqE6.jpg</td>\n",
       "      <td>1</td>\n",
       "      <td>Chesapeake_bay_retriever</td>\n",
       "      <td>0.425595</td>\n",
       "      <td>3046.0</td>\n",
       "      <td>19865.0</td>\n",
       "    </tr>\n",
       "  </tbody>\n",
       "</table>\n",
       "</div>"
      ],
      "text/plain": [
       "             tweet_id            timestamp              source  \\\n",
       "0  892177421306343426  2017-08-01 00:17:27  Twitter for iPhone   \n",
       "1  891815181378084864  2017-07-31 00:18:03  Twitter for iPhone   \n",
       "2  891689557279858688  2017-07-30 15:58:51  Twitter for iPhone   \n",
       "3  891327558926688256  2017-07-29 16:00:24  Twitter for iPhone   \n",
       "4  891087950875897856  2017-07-29 00:08:17  Twitter for iPhone   \n",
       "\n",
       "                                                text  \\\n",
       "0  This is Tilly. She's just checking pup on you....   \n",
       "1  This is Archie. He is a rare Norwegian Pouncin...   \n",
       "2  This is Darla. She commenced a snooze mid meal...   \n",
       "3  This is Franklin. He would like you to stop ca...   \n",
       "4  Here we have a majestic great white breaching ...   \n",
       "\n",
       "                                       expanded_urls  rating_numerator  \\\n",
       "0  https://twitter.com/dog_rates/status/892177421...              13.0   \n",
       "1  https://twitter.com/dog_rates/status/891815181...              12.0   \n",
       "2  https://twitter.com/dog_rates/status/891689557...              13.0   \n",
       "3  https://twitter.com/dog_rates/status/891327558...              12.0   \n",
       "4  https://twitter.com/dog_rates/status/891087950...              13.0   \n",
       "\n",
       "   rating_denominator      name  replied stage  rating_impact  \\\n",
       "0                  10     Tilly    False   NaN            1.3   \n",
       "1                  10    Archie    False   NaN            1.2   \n",
       "2                  10     Darla    False   NaN            1.3   \n",
       "3                  10  Franklin    False   NaN            1.2   \n",
       "4                  10       NaN    False   NaN            1.3   \n",
       "\n",
       "                                           jpg_url  img_num  \\\n",
       "0  https://pbs.twimg.com/media/DGGmoV4XsAAUL6n.jpg        1   \n",
       "1  https://pbs.twimg.com/media/DGBdLU1WsAANxJ9.jpg        1   \n",
       "2  https://pbs.twimg.com/media/DF_q7IAWsAEuuN8.jpg        1   \n",
       "3  https://pbs.twimg.com/media/DF6hr6BUMAAzZgT.jpg        2   \n",
       "4  https://pbs.twimg.com/media/DF3HwyEWsAABqE6.jpg        1   \n",
       "\n",
       "                 prediction  confidence  retweet_count  favorite_count  \n",
       "0                 Chihuahua    0.323581         6139.0         32631.0  \n",
       "1                 Chihuahua    0.716012         4064.0         24550.0  \n",
       "2        Labrador_retriever    0.168086         8455.0         41346.0  \n",
       "3                    Basset    0.555712         9154.0         39531.0  \n",
       "4  Chesapeake_bay_retriever    0.425595         3046.0         19865.0  "
      ]
     },
     "execution_count": 4,
     "metadata": {},
     "output_type": "execute_result"
    }
   ],
   "source": [
    "# check df\n",
    "df.head()"
   ]
  },
  {
   "cell_type": "code",
   "execution_count": 16,
   "metadata": {},
   "outputs": [
    {
     "name": "stdout",
     "output_type": "stream",
     "text": [
      "0.9816132858837485\n"
     ]
    }
   ],
   "source": [
    "# get total counts\n",
    "p_points = df.shape[0]\n",
    "\n",
    "# get the max value\n",
    "max_counts = df[\"source\"].value_counts().max()\n",
    "\n",
    "# get max propotion\n",
    "max_prop = max_counts / p_points\n",
    "\n",
    "print(max_prop)"
   ]
  },
  {
   "cell_type": "code",
   "execution_count": 54,
   "metadata": {},
   "outputs": [
    {
     "data": {
      "text/plain": [
       "['0.00',\n",
       " '0.05',\n",
       " '0.10',\n",
       " '0.15',\n",
       " '0.20',\n",
       " '0.25',\n",
       " '0.30',\n",
       " '0.35',\n",
       " '0.40',\n",
       " '0.45',\n",
       " '0.50',\n",
       " '0.55',\n",
       " '0.60',\n",
       " '0.65',\n",
       " '0.70',\n",
       " '0.75',\n",
       " '0.80',\n",
       " '0.85',\n",
       " '0.90',\n",
       " '0.95',\n",
       " '1.00']"
      ]
     },
     "execution_count": 54,
     "metadata": {},
     "output_type": "execute_result"
    }
   ],
   "source": [
    "# generate tickmark location and name\n",
    "tick_props = np.arange(0, max_prop+0.02, 0.05)\n",
    "\n",
    "tick_names = ['{:0.2f}'.format(v) for v in tick_props] \n",
    "\n",
    "#format tick_props to 3 digits and return list of string ticks = name\n",
    "['{:0.2f}'.format(v) for v in tick_props]"
   ]
  },
  {
   "cell_type": "code",
   "execution_count": 27,
   "metadata": {},
   "outputs": [
    {
     "data": {
      "text/plain": [
       "[(0.12156862745098039, 0.4666666666666667, 0.7058823529411765),\n",
       " (1.0, 0.4980392156862745, 0.054901960784313725),\n",
       " (0.17254901960784313, 0.6274509803921569, 0.17254901960784313),\n",
       " (0.8392156862745098, 0.15294117647058825, 0.1568627450980392),\n",
       " (0.5803921568627451, 0.403921568627451, 0.7411764705882353),\n",
       " (0.5490196078431373, 0.33725490196078434, 0.29411764705882354),\n",
       " (0.8901960784313725, 0.4666666666666667, 0.7607843137254902),\n",
       " (0.4980392156862745, 0.4980392156862745, 0.4980392156862745),\n",
       " (0.7372549019607844, 0.7411764705882353, 0.13333333333333333),\n",
       " (0.09019607843137255, 0.7450980392156863, 0.8117647058823529)]"
      ]
     },
     "execution_count": 27,
     "metadata": {},
     "output_type": "execute_result"
    }
   ],
   "source": [
    "# seaborn color_palette function returns RGB color lists\n",
    "sns.color_palette()"
   ]
  },
  {
   "cell_type": "code",
   "execution_count": 28,
   "metadata": {},
   "outputs": [],
   "source": [
    "# get basic blue color\n",
    "base_color = sns.color_palette()[0]"
   ]
  },
  {
   "cell_type": "code",
   "execution_count": 55,
   "metadata": {},
   "outputs": [
    {
     "data": {
      "text/plain": [
       "Text(0, 0.5, 'propotion')"
      ]
     },
     "execution_count": 55,
     "metadata": {},
     "output_type": "execute_result"
    },
    {
     "data": {
      "image/png": "[encoded data removed]",
      "text/plain": [
       "<Figure size 432x288 with 1 Axes>"
      ]
     },
     "metadata": {
      "needs_background": "light"
     },
     "output_type": "display_data"
    }
   ],
   "source": [
    "# plot\n",
    "sns.countplot(data = df, x = \"source\", color = base_color)\n",
    "\n",
    "# change the label to %\n",
    "\n",
    "# plt.yticks(tick_props * p_points) this will get the original tick locations\n",
    "# plt.yticks(tick_props * p_points, tick_names) this will replace the tick labels with the created relative figures\n",
    "\n",
    "plt.yticks(tick_props * p_points, tick_names)\n",
    "plt.ylabel(\"propotion\")"
   ]
  },
  {
   "cell_type": "markdown",
   "metadata": {},
   "source": [
    "It shows that more than 95% of tweets are posted through iphone app."
   ]
  },
  {
   "cell_type": "code",
   "execution_count": 81,
   "metadata": {
    "scrolled": true
   },
   "outputs": [
    {
     "data": {
      "image/png": "[encoded data removed]",
      "text/plain": [
       "<Figure size 432x288 with 1 Axes>"
      ]
     },
     "metadata": {
      "needs_background": "light"
     },
     "output_type": "display_data"
    }
   ],
   "source": [
    "\n",
    "\n",
    "# add anotation\n",
    "n_points = df.shape[0]\n",
    "source_counts = df[\"source\"].value_counts()\n",
    "\n",
    "# get order of sources\n",
    "source_order = source_counts.index\n",
    "\n",
    "# create the same plot again\n",
    "sns.countplot(data = df, x = \"source\", color = base_color, order = source_order)\n",
    "\n",
    "# y ticks\n",
    "plt.yticks(tick_props * p_points, tick_names)\n",
    "plt.ylabel(\"propotion\")\n",
    "\n",
    "# loop to add a text\n",
    "for i in range(source_counts.shape[0]): # get number of sources / number of bars\n",
    "    count = source_counts[i] # get the position of top of barchart\n",
    "    pct_string = '{:0.1f}%'.format(count*100 / p_points) # get a text to add\n",
    "    plt.text(i, count + 1, pct_string, ha=\"center\") # place a text at the x location and y location with centering horizontally \n",
    "    \n",
    "# plt.text(position x, position y, name to annotate, ha or va (horizontal, vertical))"
   ]
  },
  {
   "cell_type": "markdown",
   "metadata": {},
   "source": [
    "## explanation"
   ]
  },
  {
   "cell_type": "code",
   "execution_count": 59,
   "metadata": {},
   "outputs": [
    {
     "data": {
      "text/plain": [
       "Twitter for iPhone    1655\n",
       "Twitter Web Client      22\n",
       "TweetDeck                9\n",
       "Name: source, dtype: int64"
      ]
     },
     "execution_count": 59,
     "metadata": {},
     "output_type": "execute_result"
    }
   ],
   "source": [
    "# get figures\n",
    "source_counts"
   ]
  },
  {
   "cell_type": "code",
   "execution_count": 66,
   "metadata": {},
   "outputs": [
    {
     "name": "stdout",
     "output_type": "stream",
     "text": [
      "0\n",
      "1\n",
      "2\n"
     ]
    }
   ],
   "source": [
    "# get number of sources\n",
    "for i in range(source_counts.shape[0]):\n",
    "    print(i)"
   ]
  },
  {
   "cell_type": "code",
   "execution_count": 67,
   "metadata": {},
   "outputs": [
    {
     "data": {
      "text/plain": [
       "1655"
      ]
     },
     "execution_count": 67,
     "metadata": {},
     "output_type": "execute_result"
    }
   ],
   "source": [
    "source_counts[0]"
   ]
  },
  {
   "cell_type": "code",
   "execution_count": 70,
   "metadata": {},
   "outputs": [
    {
     "name": "stdout",
     "output_type": "stream",
     "text": [
      "98.2%\n",
      "1.3%\n",
      "0.5%\n"
     ]
    }
   ],
   "source": [
    "for i in range(source_counts.shape[0]):\n",
    "    count = source_counts[i]\n",
    "    pct_string = '{:0.1f}%'.format(count*100 / p_points)\n",
    "    print(pct_string)"
   ]
  },
  {
   "cell_type": "markdown",
   "metadata": {},
   "source": [
    "## hypothesis testing"
   ]
  },
  {
   "cell_type": "code",
   "execution_count": 88,
   "metadata": {},
   "outputs": [],
   "source": [
    "# get tweet type\n",
    "tweet_type = df[\"expanded_urls\"].str.split(\"/\").str[-2]"
   ]
  },
  {
   "cell_type": "code",
   "execution_count": 90,
   "metadata": {},
   "outputs": [],
   "source": [
    "# copy original df\n",
    "df2 = df.copy()"
   ]
  },
  {
   "cell_type": "code",
   "execution_count": 91,
   "metadata": {},
   "outputs": [],
   "source": [
    "# add a new column\n",
    "df2[\"type\"] = tweet_type"
   ]
  },
  {
   "cell_type": "code",
   "execution_count": 92,
   "metadata": {},
   "outputs": [
    {
     "data": {
      "text/html": [
       "<div>\n",
       "<style scoped>\n",
       "    .dataframe tbody tr th:only-of-type {\n",
       "        vertical-align: middle;\n",
       "    }\n",
       "\n",
       "    .dataframe tbody tr th {\n",
       "        vertical-align: top;\n",
       "    }\n",
       "\n",
       "    .dataframe thead th {\n",
       "        text-align: right;\n",
       "    }\n",
       "</style>\n",
       "<table border=\"1\" class=\"dataframe\">\n",
       "  <thead>\n",
       "    <tr style=\"text-align: right;\">\n",
       "      <th></th>\n",
       "      <th>tweet_id</th>\n",
       "      <th>timestamp</th>\n",
       "      <th>source</th>\n",
       "      <th>text</th>\n",
       "      <th>expanded_urls</th>\n",
       "      <th>rating_numerator</th>\n",
       "      <th>rating_denominator</th>\n",
       "      <th>name</th>\n",
       "      <th>replied</th>\n",
       "      <th>stage</th>\n",
       "      <th>rating_impact</th>\n",
       "      <th>jpg_url</th>\n",
       "      <th>img_num</th>\n",
       "      <th>prediction</th>\n",
       "      <th>confidence</th>\n",
       "      <th>retweet_count</th>\n",
       "      <th>favorite_count</th>\n",
       "      <th>type</th>\n",
       "    </tr>\n",
       "  </thead>\n",
       "  <tbody>\n",
       "    <tr>\n",
       "      <th>0</th>\n",
       "      <td>892177421306343426</td>\n",
       "      <td>2017-08-01 00:17:27</td>\n",
       "      <td>Twitter for iPhone</td>\n",
       "      <td>This is Tilly. She's just checking pup on you....</td>\n",
       "      <td>https://twitter.com/dog_rates/status/892177421...</td>\n",
       "      <td>13.0</td>\n",
       "      <td>10</td>\n",
       "      <td>Tilly</td>\n",
       "      <td>False</td>\n",
       "      <td>NaN</td>\n",
       "      <td>1.3</td>\n",
       "      <td>https://pbs.twimg.com/media/DGGmoV4XsAAUL6n.jpg</td>\n",
       "      <td>1</td>\n",
       "      <td>Chihuahua</td>\n",
       "      <td>0.323581</td>\n",
       "      <td>6139.0</td>\n",
       "      <td>32631.0</td>\n",
       "      <td>photo</td>\n",
       "    </tr>\n",
       "    <tr>\n",
       "      <th>1</th>\n",
       "      <td>891815181378084864</td>\n",
       "      <td>2017-07-31 00:18:03</td>\n",
       "      <td>Twitter for iPhone</td>\n",
       "      <td>This is Archie. He is a rare Norwegian Pouncin...</td>\n",
       "      <td>https://twitter.com/dog_rates/status/891815181...</td>\n",
       "      <td>12.0</td>\n",
       "      <td>10</td>\n",
       "      <td>Archie</td>\n",
       "      <td>False</td>\n",
       "      <td>NaN</td>\n",
       "      <td>1.2</td>\n",
       "      <td>https://pbs.twimg.com/media/DGBdLU1WsAANxJ9.jpg</td>\n",
       "      <td>1</td>\n",
       "      <td>Chihuahua</td>\n",
       "      <td>0.716012</td>\n",
       "      <td>4064.0</td>\n",
       "      <td>24550.0</td>\n",
       "      <td>photo</td>\n",
       "    </tr>\n",
       "    <tr>\n",
       "      <th>2</th>\n",
       "      <td>891689557279858688</td>\n",
       "      <td>2017-07-30 15:58:51</td>\n",
       "      <td>Twitter for iPhone</td>\n",
       "      <td>This is Darla. She commenced a snooze mid meal...</td>\n",
       "      <td>https://twitter.com/dog_rates/status/891689557...</td>\n",
       "      <td>13.0</td>\n",
       "      <td>10</td>\n",
       "      <td>Darla</td>\n",
       "      <td>False</td>\n",
       "      <td>NaN</td>\n",
       "      <td>1.3</td>\n",
       "      <td>https://pbs.twimg.com/media/DF_q7IAWsAEuuN8.jpg</td>\n",
       "      <td>1</td>\n",
       "      <td>Labrador_retriever</td>\n",
       "      <td>0.168086</td>\n",
       "      <td>8455.0</td>\n",
       "      <td>41346.0</td>\n",
       "      <td>photo</td>\n",
       "    </tr>\n",
       "    <tr>\n",
       "      <th>3</th>\n",
       "      <td>891327558926688256</td>\n",
       "      <td>2017-07-29 16:00:24</td>\n",
       "      <td>Twitter for iPhone</td>\n",
       "      <td>This is Franklin. He would like you to stop ca...</td>\n",
       "      <td>https://twitter.com/dog_rates/status/891327558...</td>\n",
       "      <td>12.0</td>\n",
       "      <td>10</td>\n",
       "      <td>Franklin</td>\n",
       "      <td>False</td>\n",
       "      <td>NaN</td>\n",
       "      <td>1.2</td>\n",
       "      <td>https://pbs.twimg.com/media/DF6hr6BUMAAzZgT.jpg</td>\n",
       "      <td>2</td>\n",
       "      <td>Basset</td>\n",
       "      <td>0.555712</td>\n",
       "      <td>9154.0</td>\n",
       "      <td>39531.0</td>\n",
       "      <td>photo</td>\n",
       "    </tr>\n",
       "    <tr>\n",
       "      <th>4</th>\n",
       "      <td>891087950875897856</td>\n",
       "      <td>2017-07-29 00:08:17</td>\n",
       "      <td>Twitter for iPhone</td>\n",
       "      <td>Here we have a majestic great white breaching ...</td>\n",
       "      <td>https://twitter.com/dog_rates/status/891087950...</td>\n",
       "      <td>13.0</td>\n",
       "      <td>10</td>\n",
       "      <td>NaN</td>\n",
       "      <td>False</td>\n",
       "      <td>NaN</td>\n",
       "      <td>1.3</td>\n",
       "      <td>https://pbs.twimg.com/media/DF3HwyEWsAABqE6.jpg</td>\n",
       "      <td>1</td>\n",
       "      <td>Chesapeake_bay_retriever</td>\n",
       "      <td>0.425595</td>\n",
       "      <td>3046.0</td>\n",
       "      <td>19865.0</td>\n",
       "      <td>photo</td>\n",
       "    </tr>\n",
       "  </tbody>\n",
       "</table>\n",
       "</div>"
      ],
      "text/plain": [
       "             tweet_id            timestamp              source  \\\n",
       "0  892177421306343426  2017-08-01 00:17:27  Twitter for iPhone   \n",
       "1  891815181378084864  2017-07-31 00:18:03  Twitter for iPhone   \n",
       "2  891689557279858688  2017-07-30 15:58:51  Twitter for iPhone   \n",
       "3  891327558926688256  2017-07-29 16:00:24  Twitter for iPhone   \n",
       "4  891087950875897856  2017-07-29 00:08:17  Twitter for iPhone   \n",
       "\n",
       "                                                text  \\\n",
       "0  This is Tilly. She's just checking pup on you....   \n",
       "1  This is Archie. He is a rare Norwegian Pouncin...   \n",
       "2  This is Darla. She commenced a snooze mid meal...   \n",
       "3  This is Franklin. He would like you to stop ca...   \n",
       "4  Here we have a majestic great white breaching ...   \n",
       "\n",
       "                                       expanded_urls  rating_numerator  \\\n",
       "0  https://twitter.com/dog_rates/status/892177421...              13.0   \n",
       "1  https://twitter.com/dog_rates/status/891815181...              12.0   \n",
       "2  https://twitter.com/dog_rates/status/891689557...              13.0   \n",
       "3  https://twitter.com/dog_rates/status/891327558...              12.0   \n",
       "4  https://twitter.com/dog_rates/status/891087950...              13.0   \n",
       "\n",
       "   rating_denominator      name  replied stage  rating_impact  \\\n",
       "0                  10     Tilly    False   NaN            1.3   \n",
       "1                  10    Archie    False   NaN            1.2   \n",
       "2                  10     Darla    False   NaN            1.3   \n",
       "3                  10  Franklin    False   NaN            1.2   \n",
       "4                  10       NaN    False   NaN            1.3   \n",
       "\n",
       "                                           jpg_url  img_num  \\\n",
       "0  https://pbs.twimg.com/media/DGGmoV4XsAAUL6n.jpg        1   \n",
       "1  https://pbs.twimg.com/media/DGBdLU1WsAANxJ9.jpg        1   \n",
       "2  https://pbs.twimg.com/media/DF_q7IAWsAEuuN8.jpg        1   \n",
       "3  https://pbs.twimg.com/media/DF6hr6BUMAAzZgT.jpg        2   \n",
       "4  https://pbs.twimg.com/media/DF3HwyEWsAABqE6.jpg        1   \n",
       "\n",
       "                 prediction  confidence  retweet_count  favorite_count   type  \n",
       "0                 Chihuahua    0.323581         6139.0         32631.0  photo  \n",
       "1                 Chihuahua    0.716012         4064.0         24550.0  photo  \n",
       "2        Labrador_retriever    0.168086         8455.0         41346.0  photo  \n",
       "3                    Basset    0.555712         9154.0         39531.0  photo  \n",
       "4  Chesapeake_bay_retriever    0.425595         3046.0         19865.0  photo  "
      ]
     },
     "execution_count": 92,
     "metadata": {},
     "output_type": "execute_result"
    }
   ],
   "source": [
    "# check\n",
    "df2.head()"
   ]
  },
  {
   "cell_type": "code",
   "execution_count": 94,
   "metadata": {},
   "outputs": [],
   "source": [
    "# create group statistic with types\n",
    "type_mean = df2.groupby(\"type\").mean().retweet_count"
   ]
  },
  {
   "cell_type": "code",
   "execution_count": 96,
   "metadata": {},
   "outputs": [
    {
     "data": {
      "text/plain": [
       "Index(['photo', 'video'], dtype='object', name='type')"
      ]
     },
     "execution_count": 96,
     "metadata": {},
     "output_type": "execute_result"
    }
   ],
   "source": [
    "# check index\n",
    "type_mean.index"
   ]
  },
  {
   "cell_type": "code",
   "execution_count": 100,
   "metadata": {},
   "outputs": [],
   "source": [
    "# store mean retweet_count of picture tweets\n",
    "pic_ret = type_mean[0]"
   ]
  },
  {
   "cell_type": "code",
   "execution_count": 102,
   "metadata": {},
   "outputs": [],
   "source": [
    "# store mean retweet_count of video tweets\n",
    "vid_ret = type_mean[1]"
   ]
  },
  {
   "cell_type": "code",
   "execution_count": 114,
   "metadata": {},
   "outputs": [
    {
     "name": "stdout",
     "output_type": "stream",
     "text": [
      "7852.524750265082\n"
     ]
    }
   ],
   "source": [
    "# get observed_mean difference\n",
    "obs_mean_diff = vid_ret - pic_ret\n",
    "print(obs_mean)"
   ]
  },
  {
   "cell_type": "markdown",
   "metadata": {},
   "source": [
    "## H0 = video - picture <= 0\n",
    "## H1 = video - picture > 0"
   ]
  },
  {
   "cell_type": "code",
   "execution_count": 103,
   "metadata": {},
   "outputs": [],
   "source": [
    "# bootstrapping\n",
    "\n",
    "diffs = []\n",
    "\n",
    "for _ in range(10000):\n",
    "    b_samp = df2.sample(df2.shape[0], replace=True)\n",
    "    pic_mean = b_samp.query('type ==\"photo\"').retweet_count.mean()\n",
    "    vid_mean = b_samp.query('type ==\"video\"').retweet_count.mean()\n",
    "    \n",
    "    diffs.append(vid_mean - pic_mean)"
   ]
  },
  {
   "cell_type": "code",
   "execution_count": 104,
   "metadata": {},
   "outputs": [
    {
     "data": {
      "text/plain": [
       "(array([9.700e+01, 8.950e+02, 2.341e+03, 3.092e+03, 2.208e+03, 9.580e+02,\n",
       "        3.130e+02, 7.900e+01, 1.500e+01, 2.000e+00]),\n",
       " array([ 1312.31565536,  3128.52597329,  4944.73629122,  6760.94660916,\n",
       "         8577.15692709, 10393.36724502, 12209.57756296, 14025.78788089,\n",
       "        15841.99819882, 17658.20851676, 19474.41883469]),\n",
       " <a list of 10 Patch objects>)"
      ]
     },
     "execution_count": 104,
     "metadata": {},
     "output_type": "execute_result"
    },
    {
     "data": {
      "image/png": "[encoded data removed]",
      "text/plain": [
       "<Figure size 432x288 with 1 Axes>"
      ]
     },
     "metadata": {
      "needs_background": "light"
     },
     "output_type": "display_data"
    }
   ],
   "source": [
    "# check histogram\n",
    "plt.hist(diffs)"
   ]
  },
  {
   "cell_type": "code",
   "execution_count": 110,
   "metadata": {},
   "outputs": [
    {
     "name": "stdout",
     "output_type": "stream",
     "text": [
      "[ 1834.18488117   243.25956403  -440.56936986 ... -2895.58944686\n",
      " -1161.99126357  -897.23786793]\n"
     ]
    }
   ],
   "source": [
    "# get null_value\n",
    "null_vals = np.random.normal(0, np.std(diffs), np.size(diffs)) # 0 means here that there is no differences between mean of picture and video\n",
    "print(null_vals)"
   ]
  },
  {
   "cell_type": "code",
   "execution_count": 115,
   "metadata": {},
   "outputs": [
    {
     "data": {
      "text/plain": [
       "<matplotlib.lines.Line2D at 0x2259dde2e10>"
      ]
     },
     "execution_count": 115,
     "metadata": {},
     "output_type": "execute_result"
    },
    {
     "data": {
      "image/png": "[encoded data removed]",
      "text/plain": [
       "<Figure size 432x288 with 1 Axes>"
      ]
     },
     "metadata": {
      "needs_background": "light"
     },
     "output_type": "display_data"
    }
   ],
   "source": [
    "# draw normal distribution based on 0 value\n",
    "plt.hist(null_vals)\n",
    "plt.axvline(obs_mean_diff, color=\"red\")"
   ]
  },
  {
   "cell_type": "code",
   "execution_count": 118,
   "metadata": {},
   "outputs": [
    {
     "data": {
      "text/plain": [
       "0.0005"
      ]
     },
     "execution_count": 118,
     "metadata": {},
     "output_type": "execute_result"
    }
   ],
   "source": [
    "# get p-value\n",
    "(null_vals > obs_mean_diff).mean()"
   ]
  },
  {
   "cell_type": "markdown",
   "metadata": {},
   "source": [
    "> It shows that we can reject our H0 hypothesis. Therefore, there is high possibility that tweets with video is more likely to be retweeted."
   ]
  },
  {
   "cell_type": "code",
   "execution_count": null,
   "metadata": {},
   "outputs": [],
   "source": []
  }
 ],
 "metadata": {
  "kernelspec": {
   "display_name": "Python 3",
   "language": "python",
   "name": "python3"
  },
  "language_info": {
   "codemirror_mode": {
    "name": "ipython",
    "version": 3
   },
   "file_extension": ".py",
   "mimetype": "text/x-python",
   "name": "python",
   "nbconvert_exporter": "python",
   "pygments_lexer": "ipython3",
   "version": "3.7.1"
  }
 },
 "nbformat": 4,
 "nbformat_minor": 2
}
